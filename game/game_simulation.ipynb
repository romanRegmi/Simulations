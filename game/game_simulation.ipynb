{
  "nbformat": 4,
  "nbformat_minor": 2,
  "metadata": {
    "colab": {
      "name": "game_simulation.ipynb",
      "provenance": []
    },
    "kernelspec": {
      "name": "python3",
      "display_name": "Python 3.9.4 64-bit"
    },
    "language_info": {
      "name": "python",
      "version": "3.9.4",
      "mimetype": "text/x-python",
      "codemirror_mode": {
        "name": "ipython",
        "version": 3
      },
      "pygments_lexer": "ipython3",
      "nbconvert_exporter": "python",
      "file_extension": ".py"
    },
    "interpreter": {
      "hash": "aee8b7b246df8f9039afb4144a1f6fd8d2ca17a180786b69acc140d282b71a49"
    }
  },
  "cells": [
    {
      "cell_type": "code",
      "execution_count": 1,
      "source": [
        "import numpy as np\n",
        "import random as rd"
      ],
      "outputs": [],
      "metadata": {
        "id": "QZwGmWqk-Xdl"
      }
    },
    {
      "cell_type": "code",
      "execution_count": 2,
      "source": [
        "PUCK = np.zeros((9, 6), dtype=int)\n",
        "PUCK = np.append(PUCK, [[10, 20, 30, 40, 50, 60]], axis=0)"
      ],
      "outputs": [],
      "metadata": {}
    },
    {
      "cell_type": "code",
      "execution_count": 3,
      "source": [
        "PUCK"
      ],
      "outputs": [
        {
          "output_type": "execute_result",
          "data": {
            "text/plain": [
              "array([[ 0,  0,  0,  0,  0,  0],\n",
              "       [ 0,  0,  0,  0,  0,  0],\n",
              "       [ 0,  0,  0,  0,  0,  0],\n",
              "       [ 0,  0,  0,  0,  0,  0],\n",
              "       [ 0,  0,  0,  0,  0,  0],\n",
              "       [ 0,  0,  0,  0,  0,  0],\n",
              "       [ 0,  0,  0,  0,  0,  0],\n",
              "       [ 0,  0,  0,  0,  0,  0],\n",
              "       [ 0,  0,  0,  0,  0,  0],\n",
              "       [10, 20, 30, 40, 50, 60]])"
            ]
          },
          "metadata": {},
          "execution_count": 3
        }
      ],
      "metadata": {
        "id": "bF1BizeT-hba"
      }
    },
    {
      "cell_type": "code",
      "execution_count": 4,
      "source": [
        "result = {0:{10:0,20:0,30:0,40:0,50:0,60:0},\n",
        "          1:{10:0,20:0,30:0,40:0,50:0,60:0},\n",
        "          2:{10:0,20:0,30:0,40:0,50:0,60:0},\n",
        "          3:{10:0,20:0,30:0,40:0,50:0,60:0},\n",
        "          4:{10:0,20:0,30:0,40:0,50:0,60:0},\n",
        "          5:{10:0,20:0,30:0,40:0,50:0,60:0}}"
      ],
      "outputs": [],
      "metadata": {
        "id": "1odevXHJ-jfo"
      }
    },
    {
      "cell_type": "code",
      "execution_count": 5,
      "source": [
        "def move(matrix, pos_index):\n",
        "    index = pos_index\n",
        "    pointer = matrix[0][pos_index]\n",
        "    for i in range(1,len(matrix)):\n",
        "        if rd.uniform(0, 1) > 0.5 and pos_index <= 4:\n",
        "            pos_index = pos_index+1\n",
        "            pointer = matrix[0+i][pos_index]\n",
        "        else:\n",
        "            try:\n",
        "                pos_index = pos_index-1\n",
        "                pointer = matrix[0+i][pos_index]\n",
        "            except:\n",
        "                pos_index = pos_index+1\n",
        "                pointer = matrix[0+i][pos_index]\n",
        "                \n",
        "    result[index][pointer] = result[index][pointer]+1"
      ],
      "outputs": [],
      "metadata": {
        "id": "7XLpQmaC-l3w"
      }
    },
    {
      "cell_type": "code",
      "execution_count": 6,
      "source": [
        "for j in range(50):\n",
        "    for i in range(6):\n",
        "        move(PUCK,i)"
      ],
      "outputs": [],
      "metadata": {
        "id": "1ZMCpSy1-oCg"
      }
    },
    {
      "cell_type": "code",
      "execution_count": 7,
      "source": [
        "result"
      ],
      "outputs": [
        {
          "output_type": "execute_result",
          "data": {
            "text/plain": [
              "{0: {10: 2, 20: 12, 30: 0, 40: 16, 50: 0, 60: 20},\n",
              " 1: {10: 12, 20: 0, 30: 18, 40: 0, 50: 20, 60: 0},\n",
              " 2: {10: 0, 20: 13, 30: 0, 40: 18, 50: 0, 60: 19},\n",
              " 3: {10: 10, 20: 0, 30: 16, 40: 0, 50: 24, 60: 0},\n",
              " 4: {10: 0, 20: 7, 30: 0, 40: 28, 50: 0, 60: 15},\n",
              " 5: {10: 5, 20: 0, 30: 20, 40: 0, 50: 25, 60: 0}}"
            ]
          },
          "metadata": {},
          "execution_count": 7
        }
      ],
      "metadata": {
        "colab": {
          "base_uri": "https://localhost:8080/"
        },
        "id": "RoqPpfu5-qE4",
        "outputId": "57145fde-d16d-4a88-aeed-13a7434e5310"
      }
    },
    {
      "cell_type": "code",
      "execution_count": null,
      "source": [],
      "outputs": [],
      "metadata": {
        "id": "rfqtcKol-r7I"
      }
    }
  ]
}